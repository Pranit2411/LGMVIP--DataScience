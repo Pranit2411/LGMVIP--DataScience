{
  "cells": [
    {
      "cell_type": "markdown",
      "id": "094af54e",
      "metadata": {
        "id": "094af54e"
      },
      "source": [
        "### **LGMVIP Data Science**\n",
        "\n",
        "### **Advanced Level Task 1 : Develop A Neural Network That Can Read Handwriting**\n",
        "\n",
        "Name - Pranit Dilip Menkar\n",
        "\n",
        "Dataset Link - https://en.wikipedia.org/wiki/MNIST_database"
      ]
    },
    {
      "cell_type": "markdown",
      "id": "4f5eb02d",
      "metadata": {
        "id": "4f5eb02d"
      },
      "source": [
        "## Importing Libraries"
      ]
    },
    {
      "cell_type": "code",
      "execution_count": null,
      "id": "a8fc8396",
      "metadata": {
        "id": "a8fc8396"
      },
      "outputs": [],
      "source": [
        "#Importing packages\n",
        "import tensorflow as tf\n",
        "import numpy as np\n",
        "from matplotlib import pyplot as plt\n",
        "import seaborn as sns"
      ]
    },
    {
      "cell_type": "markdown",
      "id": "7b467aee",
      "metadata": {
        "id": "7b467aee"
      },
      "source": [
        "## Loading dataset"
      ]
    },
    {
      "cell_type": "code",
      "execution_count": null,
      "id": "e1ea863f",
      "metadata": {
        "colab": {
          "base_uri": "https://localhost:8080/"
        },
        "id": "e1ea863f",
        "outputId": "75157684-7dc4-4e41-945a-241f4653b43e"
      },
      "outputs": [
        {
          "name": "stdout",
          "output_type": "stream",
          "text": [
            "Downloading data from https://storage.googleapis.com/tensorflow/tf-keras-datasets/mnist.npz\n",
            "11493376/11490434 [==============================] - 0s 0us/step\n",
            "11501568/11490434 [==============================] - 0s 0us/step\n"
          ]
        }
      ],
      "source": [
        "#loading dataset\n",
        "(x_train,y_train),(x_test,y_test)=tf.keras.datasets.mnist.load_data()"
      ]
    },
    {
      "cell_type": "markdown",
      "id": "cbd19e7b",
      "metadata": {
        "id": "cbd19e7b"
      },
      "source": [
        "## Plotting count plot"
      ]
    },
    {
      "cell_type": "code",
      "execution_count": null,
      "id": "e14fdc71",
      "metadata": {
        "colab": {
          "base_uri": "https://localhost:8080/",
          "height": 555
        },
        "id": "e14fdc71",
        "outputId": "da4fe36c-9a2c-4d11-e971-635b829dc277"
      },
      "outputs": [
        {
          "name": "stderr",
          "output_type": "stream",
          "text": [
            "/usr/local/lib/python3.7/dist-packages/seaborn/_decorators.py:43: FutureWarning: Pass the following variable as a keyword arg: x. From version 0.12, the only valid positional argument will be `data`, and passing other arguments without an explicit keyword will result in an error or misinterpretation.\n",
            "  FutureWarning\n"
          ]
        },
        {
          "data": {
            "text/plain": [
              "<matplotlib.axes._subplots.AxesSubplot at 0x7f0a652183d0>"
            ]
          },
          "execution_count": 3,
          "metadata": {},
          "output_type": "execute_result"
        },
        {
          "data": {
            "image/png": "[encoded data removed]",
            "text/plain": [
              "<Figure size 720x576 with 1 Axes>"
            ]
          },
          "metadata": {
            "needs_background": "light"
          },
          "output_type": "display_data"
        }
      ],
      "source": [
        "plt.figure(figsize = (10,8))\n",
        "sns.countplot(y_train)"
      ]
    },
    {
      "cell_type": "markdown",
      "id": "3b6b4200",
      "metadata": {
        "id": "3b6b4200"
      },
      "source": [
        "## Displaying some images"
      ]
    },
    {
      "cell_type": "code",
      "execution_count": null,
      "id": "effc743d",
      "metadata": {
        "colab": {
          "base_uri": "https://localhost:8080/",
          "height": 147
        },
        "id": "effc743d",
        "outputId": "cf463820-b40b-4f46-e866-3e954cb33aad"
      },
      "outputs": [
        {
          "data": {
            "image/png": "[encoded data removed]",
            "text/plain": [
              "<Figure size 720x288 with 5 Axes>"
            ]
          },
          "metadata": {
            "needs_background": "light"
          },
          "output_type": "display_data"
        }
      ],
      "source": [
        "#Dataset properties\n",
        "# Display some images\n",
        "fig, axes = plt.subplots(ncols=5, sharex=False, \n",
        "    sharey=True, figsize=(10, 4))\n",
        "for i in range(5):\n",
        "    axes[i].set_title(y_train[i])\n",
        "    axes[i].imshow(x_train[i], cmap='gray_r')\n",
        "    axes[i].get_xaxis().set_visible(False)\n",
        "    axes[i].get_yaxis().set_visible(False)\n",
        "plt.show()"
      ]
    },
    {
      "cell_type": "markdown",
      "id": "397b63d9",
      "metadata": {
        "id": "397b63d9"
      },
      "source": [
        "### Pre-processing the data"
      ]
    },
    {
      "cell_type": "code",
      "execution_count": null,
      "id": "31f5f263",
      "metadata": {
        "colab": {
          "base_uri": "https://localhost:8080/"
        },
        "id": "31f5f263",
        "outputId": "df69b4ec-2294-4fd7-e555-8a126c88089a"
      },
      "outputs": [
        {
          "name": "stdout",
          "output_type": "stream",
          "text": [
            "Training images shape :  (60000, 28, 28)\n",
            "Testing images shape :  (10000, 28, 28)\n"
          ]
        }
      ],
      "source": [
        "# Pre-processing the data\n",
        "print('Training images shape : ',x_train.shape)\n",
        "print('Testing images shape : ',x_test.shape)"
      ]
    },
    {
      "cell_type": "code",
      "execution_count": null,
      "id": "37e1cf3e",
      "metadata": {
        "id": "37e1cf3e"
      },
      "outputs": [],
      "source": [
        "x_train = x_train.reshape(x_train.shape[0], 28, 28, 1)\n",
        "x_test = x_test.reshape(x_test.shape[0], 28, 28, 1)\n",
        "input_shape = (28, 28, 1)\n"
      ]
    },
    {
      "cell_type": "code",
      "execution_count": null,
      "id": "f163729a",
      "metadata": {
        "id": "f163729a"
      },
      "outputs": [],
      "source": [
        "#applying normalization\n",
        "x_train=x_train/255.0\n",
        "x_testg=x_test/255.0\n",
        "num_classes = 10"
      ]
    },
    {
      "cell_type": "markdown",
      "id": "969c4166",
      "metadata": {
        "id": "969c4166"
      },
      "source": [
        "## Creating the model\n",
        "### Model Architecture\n",
        "We will have to first build the model architecture and define it based on our dataset. We are going to add the following layers:\n",
        "\n",
        "1. Conv2D - for the convolution layers\n",
        "2. Dropout - to prevent overfitting\n",
        "3. Dense - a fully connected layer\n",
        "4. Softmax activation - This is used to convert all predictions into probability\n",
        "The model architecture can be tuned to get optimal performance\n",
        "\n",
        "This model - \n",
        "#### CNN + Three layers + relu + (3,3) kernel_size + Dropout rate (0.3)"
      ]
    },
    {
      "cell_type": "code",
      "execution_count": null,
      "id": "924bd97a",
      "metadata": {
        "id": "924bd97a"
      },
      "outputs": [],
      "source": [
        "from tensorflow.keras.models import Sequential\n",
        "from tensorflow.keras.layers import Dense, Dropout, Flatten,Activation\n",
        "from tensorflow.keras.layers import Conv2D,MaxPooling2D\n",
        "from tensorflow.keras.layers import BatchNormalization"
      ]
    },
    {
      "cell_type": "code",
      "execution_count": null,
      "id": "31b9606c",
      "metadata": {
        "id": "31b9606c"
      },
      "outputs": [],
      "source": [
        "model = Sequential()\n",
        "\n",
        "model.add(Conv2D(128, kernel_size=(3, 3),\n",
        "                 activation=tf.nn.relu,\n",
        "                 input_shape=input_shape))\n",
        "model.add(BatchNormalization())\n",
        "model.add(Dropout(0.3))\n",
        "\n",
        "model.add(Conv2D(64, (3, 3), activation=tf.nn.relu))\n",
        "model.add(BatchNormalization())\n",
        "model.add(Dropout(0.3))\n",
        "\n",
        "model.add(Conv2D(32, (3, 3), activation=tf.nn.relu))\n",
        "model.add(BatchNormalization())\n",
        "model.add(Dropout(0.3))\n",
        "\n",
        "\n",
        "model.add(MaxPooling2D(pool_size=(2, 2)))\n",
        "model.add(Dropout(0.3))\n",
        "model.add(Flatten())\n",
        "model.add(Dense(128, activation=tf.nn.relu))\n",
        "model.add(Dropout(0.3))\n",
        "model.add(Dense(num_classes, activation=tf.nn.softmax))"
      ]
    },
    {
      "cell_type": "code",
      "execution_count": null,
      "id": "d899a8b7",
      "metadata": {
        "colab": {
          "base_uri": "https://localhost:8080/"
        },
        "id": "d899a8b7",
        "outputId": "355edfb5-b83a-483b-de47-19b63e7a6781"
      },
      "outputs": [
        {
          "name": "stdout",
          "output_type": "stream",
          "text": [
            "Model: \"sequential\"\n",
            "_________________________________________________________________\n",
            " Layer (type)                Output Shape              Param #   \n",
            "=================================================================\n",
            " conv2d (Conv2D)             (None, 26, 26, 128)       1280      \n",
            "                                                                 \n",
            " batch_normalization (BatchN  (None, 26, 26, 128)      512       \n",
            " ormalization)                                                   \n",
            "                                                                 \n",
            " dropout (Dropout)           (None, 26, 26, 128)       0         \n",
            "                                                                 \n",
            " conv2d_1 (Conv2D)           (None, 24, 24, 64)        73792     \n",
            "                                                                 \n",
            " batch_normalization_1 (Batc  (None, 24, 24, 64)       256       \n",
            " hNormalization)                                                 \n",
            "                                                                 \n",
            " dropout_1 (Dropout)         (None, 24, 24, 64)        0         \n",
            "                                                                 \n",
            " conv2d_2 (Conv2D)           (None, 22, 22, 32)        18464     \n",
            "                                                                 \n",
            " batch_normalization_2 (Batc  (None, 22, 22, 32)       128       \n",
            " hNormalization)                                                 \n",
            "                                                                 \n",
            " dropout_2 (Dropout)         (None, 22, 22, 32)        0         \n",
            "                                                                 \n",
            " max_pooling2d (MaxPooling2D  (None, 11, 11, 32)       0         \n",
            " )                                                               \n",
            "                                                                 \n",
            " dropout_3 (Dropout)         (None, 11, 11, 32)        0         \n",
            "                                                                 \n",
            " flatten (Flatten)           (None, 3872)              0         \n",
            "                                                                 \n",
            " dense (Dense)               (None, 128)               495744    \n",
            "                                                                 \n",
            " dropout_4 (Dropout)         (None, 128)               0         \n",
            "                                                                 \n",
            " dense_1 (Dense)             (None, 10)                1290      \n",
            "                                                                 \n",
            "=================================================================\n",
            "Total params: 591,466\n",
            "Trainable params: 591,018\n",
            "Non-trainable params: 448\n",
            "_________________________________________________________________\n"
          ]
        }
      ],
      "source": [
        "model.summary()"
      ]
    },
    {
      "cell_type": "markdown",
      "id": "849533db",
      "metadata": {
        "id": "849533db"
      },
      "source": [
        "## Training the model"
      ]
    },
    {
      "cell_type": "code",
      "execution_count": null,
      "id": "32a2e65a",
      "metadata": {
        "colab": {
          "base_uri": "https://localhost:8080/"
        },
        "id": "32a2e65a",
        "outputId": "26099044-ff45-4dab-f23d-ce2e646efe9c"
      },
      "outputs": [
        {
          "name": "stdout",
          "output_type": "stream",
          "text": [
            "Epoch 1/10\n",
            "1688/1688 [==============================] - 410s 242ms/step - loss: 0.2849 - accuracy: 0.9169 - val_loss: 0.0809 - val_accuracy: 0.9817\n",
            "Epoch 2/10\n",
            "1688/1688 [==============================] - 408s 242ms/step - loss: 0.1169 - accuracy: 0.9654 - val_loss: 0.1006 - val_accuracy: 0.9813\n",
            "Epoch 3/10\n",
            "1688/1688 [==============================] - 414s 245ms/step - loss: 0.0952 - accuracy: 0.9725 - val_loss: 0.1091 - val_accuracy: 0.9780\n",
            "Epoch 4/10\n",
            "1688/1688 [==============================] - 410s 243ms/step - loss: 0.0762 - accuracy: 0.9783 - val_loss: 0.0971 - val_accuracy: 0.9838\n",
            "Epoch 5/10\n",
            "1688/1688 [==============================] - 416s 247ms/step - loss: 0.0669 - accuracy: 0.9808 - val_loss: 0.0943 - val_accuracy: 0.9848\n",
            "Epoch 6/10\n",
            "1688/1688 [==============================] - 409s 242ms/step - loss: 0.0601 - accuracy: 0.9821 - val_loss: 0.1038 - val_accuracy: 0.9867\n",
            "Epoch 7/10\n",
            "1688/1688 [==============================] - 410s 243ms/step - loss: 0.0535 - accuracy: 0.9839 - val_loss: 0.1501 - val_accuracy: 0.9805\n",
            "Epoch 8/10\n",
            "1688/1688 [==============================] - 407s 241ms/step - loss: 0.0525 - accuracy: 0.9849 - val_loss: 0.0911 - val_accuracy: 0.9867\n",
            "Epoch 9/10\n",
            "1688/1688 [==============================] - 405s 240ms/step - loss: 0.0470 - accuracy: 0.9864 - val_loss: 0.0926 - val_accuracy: 0.9873\n",
            "Epoch 10/10\n",
            "1688/1688 [==============================] - 404s 239ms/step - loss: 0.0432 - accuracy: 0.9866 - val_loss: 0.1139 - val_accuracy: 0.9863\n"
          ]
        }
      ],
      "source": [
        "# Train the model\n",
        "model.compile(optimizer='adam', \n",
        "              loss='sparse_categorical_crossentropy', \n",
        "              metrics=['accuracy'])\n",
        "history=model.fit(x=x_train,\n",
        "                  y=y_train,\n",
        "                  validation_split=0.1,\n",
        "                  epochs=10)\n"
      ]
    },
    {
      "cell_type": "markdown",
      "id": "1d19d065",
      "metadata": {
        "id": "1d19d065"
      },
      "source": [
        "### Saving and loading the model"
      ]
    },
    {
      "cell_type": "code",
      "execution_count": null,
      "id": "c8d8c6d4",
      "metadata": {
        "id": "c8d8c6d4"
      },
      "outputs": [],
      "source": [
        "model.save('MNproject.h5')"
      ]
    },
    {
      "cell_type": "code",
      "execution_count": null,
      "id": "210312ea",
      "metadata": {
        "id": "210312ea"
      },
      "outputs": [],
      "source": [
        "from tensorflow.keras.models import load_model\n",
        "model = load_model('MNproject.h5')"
      ]
    },
    {
      "cell_type": "markdown",
      "id": "57c4b31f",
      "metadata": {
        "id": "57c4b31f"
      },
      "source": [
        "### Evaluating the model"
      ]
    },
    {
      "cell_type": "code",
      "execution_count": null,
      "id": "fadefe61",
      "metadata": {
        "colab": {
          "base_uri": "https://localhost:8080/"
        },
        "id": "fadefe61",
        "outputId": "b2f15369-eca7-4675-e57f-60d2062b1c97"
      },
      "outputs": [
        {
          "name": "stdout",
          "output_type": "stream",
          "text": [
            "313/313 [==============================] - 16s 50ms/step - loss: 2.5446 - accuracy: 0.9875\n",
            "Test Loss 2.5445990562438965\n",
            "Test Accuracy 0.987500011920929\n"
          ]
        }
      ],
      "source": [
        "# Evaluate the model\n",
        "loss_and_acc=model.evaluate(x_test,y_test)\n",
        "print(\"Test Loss\", loss_and_acc[0])\n",
        "print(\"Test Accuracy\", loss_and_acc[1])"
      ]
    },
    {
      "cell_type": "markdown",
      "id": "60007fd4",
      "metadata": {
        "id": "60007fd4"
      },
      "source": [
        "## Plotting Training & Validation plots"
      ]
    },
    {
      "cell_type": "code",
      "execution_count": null,
      "id": "d1114a56",
      "metadata": {
        "colab": {
          "base_uri": "https://localhost:8080/",
          "height": 417
        },
        "id": "d1114a56",
        "outputId": "1d636090-c273-4070-911c-1b857ca57649"
      },
      "outputs": [
        {
          "data": {
            "image/png": "[encoded data removed]",
            "text/plain": [
              "<Figure size 1440x432 with 2 Axes>"
            ]
          },
          "metadata": {
            "needs_background": "light"
          },
          "output_type": "display_data"
        }
      ],
      "source": [
        "acc = history.history['accuracy']\n",
        "val_acc = history.history['val_accuracy']\n",
        "loss = history.history['loss']\n",
        "val_loss = history.history['val_loss']\n",
        "epochs = range(len(acc))\n",
        "\n",
        "fig, ax = plt.subplots(nrows=1, ncols=2, figsize=(20, 6))\n",
        "ax[0].plot(epochs, acc, 'y', label='Training accuracy')\n",
        "ax[0].plot(epochs, val_acc, 'g', label='Validation accuracy')\n",
        "ax[0].legend(loc=0)\n",
        "ax[1].plot(epochs, loss, 'y', label='Training loss')\n",
        "ax[1].plot(epochs, val_loss, 'g', label='Validation loss')\n",
        "ax[1].legend(loc=0)\n",
        "\n",
        "plt.suptitle('Training and validation')\n",
        "plt.show()"
      ]
    },
    {
      "cell_type": "code",
      "execution_count": null,
      "id": "7fca05a0",
      "metadata": {
        "colab": {
          "base_uri": "https://localhost:8080/"
        },
        "id": "7fca05a0",
        "outputId": "56a24708-042a-4c17-dd4d-87a2e603a5a5"
      },
      "outputs": [
        {
          "data": {
            "text/plain": [
              "<tf.Tensor: shape=(10, 10), dtype=int32, numpy=\n",
              "array([[ 977,    0,    0,    0,    0,    0,    2,    1,    0,    0],\n",
              "       [   0, 1132,    0,    0,    0,    0,    1,    2,    0,    0],\n",
              "       [   3,    3, 1015,    0,    6,    0,    0,    5,    0,    0],\n",
              "       [   1,    0,    4, 1000,    0,    2,    0,    2,    1,    0],\n",
              "       [   0,    0,    0,    0,  982,    0,    0,    0,    0,    0],\n",
              "       [   2,    0,    1,    4,    0,  880,    5,    0,    0,    0],\n",
              "       [   0,    3,    0,    0,    2,    1,  951,    0,    1,    0],\n",
              "       [   0,    2,    2,    0,    1,    0,    0, 1021,    1,    1],\n",
              "       [   7,    1,    2,    1,    0,    0,    5,    0,  956,    2],\n",
              "       [   0,    2,    0,    1,   35,    6,    0,    3,    1,  961]],\n",
              "      dtype=int32)>"
            ]
          },
          "execution_count": 16,
          "metadata": {},
          "output_type": "execute_result"
        }
      ],
      "source": [
        "# Confusion Matrix\n",
        "y_predicted = model.predict(x_test)\n",
        "y_predicted_labels = [np.argmax(i) for i in y_predicted]\n",
        "cm = tf.math.confusion_matrix(labels=y_test,predictions=y_predicted_labels)\n",
        "cm"
      ]
    },
    {
      "cell_type": "markdown",
      "id": "910483c6",
      "metadata": {
        "id": "910483c6"
      },
      "source": [
        "### Plotting heat map"
      ]
    },
    {
      "cell_type": "code",
      "execution_count": null,
      "id": "ba7577e0",
      "metadata": {
        "colab": {
          "base_uri": "https://localhost:8080/",
          "height": 459
        },
        "id": "ba7577e0",
        "outputId": "f2e7fcec-0266-4547-a7af-8a62bff815aa"
      },
      "outputs": [
        {
          "data": {
            "text/plain": [
              "Text(69.0, 0.5, 'Truth')"
            ]
          },
          "execution_count": 17,
          "metadata": {},
          "output_type": "execute_result"
        },
        {
          "data": {
            "image/png": "[encoded data removed]",
            "text/plain": [
              "<Figure size 720x504 with 2 Axes>"
            ]
          },
          "metadata": {
            "needs_background": "light"
          },
          "output_type": "display_data"
        }
      ],
      "source": [
        "plt.figure(figsize = (10,7))\n",
        "sns.heatmap(cm, annot=True, fmt='d', cmap = 'coolwarm')\n",
        "plt.xlabel('Predicted')\n",
        "plt.ylabel('Truth')"
      ]
    }
  ],
  "metadata": {
    "colab": {
      "collapsed_sections": [],
      "name": "Task 1 Develop A Neural Network That Can Read Handwriting LGMVIP.ipynb",
      "provenance": []
    },
    "kernelspec": {
      "display_name": "Python 3.7.7 64-bit",
      "language": "python",
      "name": "python3"
    },
    "language_info": {
      "codemirror_mode": {
        "name": "ipython",
        "version": 3
      },
      "file_extension": ".py",
      "mimetype": "text/x-python",
      "name": "python",
      "nbconvert_exporter": "python",
      "pygments_lexer": "ipython3",
      "version": "3.7.7"
    },
    "vscode": {
      "interpreter": {
        "hash": "5625439e3adf183cdf878e19064424218433931f978eba92ef739185c0937e2e"
      }
    }
  },
  "nbformat": 4,
  "nbformat_minor": 5
}
